{
 "cells": [
  {
   "cell_type": "markdown",
   "metadata": {},
   "source": [
    "1 -  import the numpy and pandas packages"
   ]
  },
  {
   "cell_type": "code",
   "execution_count": null,
   "metadata": {},
   "outputs": [],
   "source": []
  },
  {
   "cell_type": "markdown",
   "metadata": {},
   "source": [
    "2 - read the excel file \"topsis.xlsx\" into df variable"
   ]
  },
  {
   "cell_type": "code",
   "execution_count": null,
   "metadata": {},
   "outputs": [],
   "source": []
  },
  {
   "cell_type": "markdown",
   "metadata": {},
   "source": [
    "3 - initialize the  r array with zeros and then assign the normalized df table into it ( r has the same shape (4,3) as df )"
   ]
  },
  {
   "cell_type": "code",
   "execution_count": null,
   "metadata": {},
   "outputs": [],
   "source": [
    "m,n=df.shape\n",
    "m,n"
   ]
  },
  {
   "cell_type": "code",
   "execution_count": null,
   "metadata": {},
   "outputs": [],
   "source": []
  },
  {
   "cell_type": "markdown",
   "metadata": {},
   "source": [
    "define attribute types ( cost based (-1) or renevue based (+1) )"
   ]
  },
  {
   "cell_type": "code",
   "execution_count": null,
   "metadata": {},
   "outputs": [],
   "source": [
    "#attType=[...]"
   ]
  },
  {
   "cell_type": "markdown",
   "metadata": {},
   "source": [
    "4 - compute the normalized r array:\n",
    "\n",
    "for normalization you should subtract the min value of the column from its elements and divide them by the difference between the maximum value of the column and the minimum value of the column"
   ]
  },
  {
   "cell_type": "code",
   "execution_count": null,
   "metadata": {},
   "outputs": [],
   "source": []
  },
  {
   "cell_type": "raw",
   "metadata": {},
   "source": [
    "exppected output:\n",
    "r:\n",
    "array([[0.44444444, 0.76      , 1.        ],\n",
    "       [0.        , 0.        , 0.        ],\n",
    "       [0.11111111, 0.48      , 0.5       ],\n",
    "       [1.        , 1.        , 0.75      ]])"
   ]
  },
  {
   "cell_type": "markdown",
   "metadata": {},
   "source": [
    "5 - multiply the r array with the associated weights of the attributes in order to obtain the weighted array (v)"
   ]
  },
  {
   "cell_type": "code",
   "execution_count": null,
   "metadata": {},
   "outputs": [],
   "source": [
    "w=np.array([0.3,0.45,0.25])"
   ]
  },
  {
   "cell_type": "code",
   "execution_count": null,
   "metadata": {},
   "outputs": [],
   "source": []
  },
  {
   "cell_type": "raw",
   "metadata": {},
   "source": [
    "exppected output:\n",
    "v:\n",
    "array([[0.13333333, 0.342     , 0.25      ],\n",
    "       [0.        , 0.        , 0.        ],\n",
    "       [0.03333333, 0.216     , 0.125     ],\n",
    "       [0.3       , 0.45      , 0.1875    ]])"
   ]
  },
  {
   "cell_type": "markdown",
   "metadata": {},
   "source": [
    "6 - compute the positive ideal vector (idealVec) and negative ideal vector (non_idealVec)"
   ]
  },
  {
   "cell_type": "code",
   "execution_count": null,
   "metadata": {},
   "outputs": [],
   "source": [
    "idealVec=np.zeros((1,n))\n",
    "non_idealVec=np.zeros((1,n))"
   ]
  },
  {
   "cell_type": "code",
   "execution_count": null,
   "metadata": {},
   "outputs": [],
   "source": []
  },
  {
   "cell_type": "raw",
   "metadata": {},
   "source": [
    "expected output: \n",
    "\n",
    "idealVec:\n",
    "array([[0.  , 0.45, 0.  ]])\n",
    "\n",
    "non_idealVec:\n",
    "array([[0.3 , 0.  , 0.25]])"
   ]
  },
  {
   "cell_type": "markdown",
   "metadata": {},
   "source": [
    "7 - create the d array in shape (4,3) in order to keep the d+ , d_ and cl values for each alternative algorithm ( columns reprecnt the d+ , d_ and cl values for each algorithm  )"
   ]
  },
  {
   "cell_type": "code",
   "execution_count": null,
   "metadata": {},
   "outputs": [],
   "source": []
  },
  {
   "cell_type": "raw",
   "metadata": {},
   "source": [
    "expected output:\n",
    "\n",
    "d:\n",
    "\n",
    "array([[0.30321903, 0.38044944, 0.55648236],\n",
    "       [0.45      , 0.39051248, 0.46461235],\n",
    "       [0.26738009, 0.36522885, 0.57733748],\n",
    "       [0.35377429, 0.45431955, 0.56221137]])"
   ]
  },
  {
   "cell_type": "markdown",
   "metadata": {},
   "source": [
    "8 - Create a pd.Series() in order to store the cl values and rank them in an ascending way"
   ]
  },
  {
   "cell_type": "code",
   "execution_count": null,
   "metadata": {},
   "outputs": [],
   "source": []
  },
  {
   "cell_type": "raw",
   "metadata": {},
   "source": [
    "expected output:\n",
    "\n",
    "scores:\n",
    "\n",
    "Column1\n",
    "hybrid    0.577337\n",
    "Greedy    0.562211\n",
    "PSO       0.556482\n",
    "GA        0.464612\n",
    "dtype: float64"
   ]
  }
 ],
 "metadata": {
  "kernelspec": {
   "display_name": "Python 3",
   "language": "python",
   "name": "python3"
  },
  "language_info": {
   "codemirror_mode": {
    "name": "ipython",
    "version": 3
   },
   "file_extension": ".py",
   "mimetype": "text/x-python",
   "name": "python",
   "nbconvert_exporter": "python",
   "pygments_lexer": "ipython3",
   "version": "3.6.5"
  }
 },
 "nbformat": 4,
 "nbformat_minor": 2
}

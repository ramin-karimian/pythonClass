{
 "cells": [
  {
   "cell_type": "markdown",
   "metadata": {},
   "source": [
    "## Numpy Assignment"
   ]
  },
  {
   "cell_type": "markdown",
   "metadata": {},
   "source": [
    "####   Import the numpy package under the name `np` "
   ]
  },
  {
   "cell_type": "code",
   "execution_count": 64,
   "metadata": {},
   "outputs": [],
   "source": [
    "import numpy as np"
   ]
  },
  {
   "cell_type": "markdown",
   "metadata": {},
   "source": [
    "#### 1.  Create a vector with values ranging from 10 to 49 and then reverse it (★☆☆)"
   ]
  },
  {
   "cell_type": "code",
   "execution_count": 7,
   "metadata": {},
   "outputs": [
    {
     "data": {
      "text/plain": [
       "array([49, 48, 47, 46, 45, 44, 43, 42, 41, 40, 39, 38, 37, 36, 35, 34, 33,\n",
       "       32, 31, 30, 29, 28, 27, 26, 25, 24, 23, 22, 21, 20, 19, 18, 17, 16,\n",
       "       15, 14, 13, 12, 11, 10])"
      ]
     },
     "execution_count": 7,
     "metadata": {},
     "output_type": "execute_result"
    }
   ],
   "source": [
    "Z1=np.arange(10,50)[::-1]\n",
    "Z1"
   ]
  },
  {
   "cell_type": "markdown",
   "metadata": {},
   "source": [
    "####  2. Create a zeros vector of size 10 but the fifth value which is 1 "
   ]
  },
  {
   "cell_type": "code",
   "execution_count": 9,
   "metadata": {},
   "outputs": [
    {
     "name": "stdout",
     "output_type": "stream",
     "text": [
      "[0. 0. 0. 0. 1. 0. 0. 0. 0. 0.]\n"
     ]
    }
   ],
   "source": [
    "Z2 = np.zeros(10)\n",
    "Z2[4] = 1\n",
    "print(Z2)"
   ]
  },
  {
   "cell_type": "markdown",
   "metadata": {},
   "source": [
    "#### 3. Create a 3x3 matrix with values ranging from 0 to 8 "
   ]
  },
  {
   "cell_type": "code",
   "execution_count": 10,
   "metadata": {},
   "outputs": [
    {
     "name": "stdout",
     "output_type": "stream",
     "text": [
      "[[0 1 2]\n",
      " [3 4 5]\n",
      " [6 7 8]]\n"
     ]
    }
   ],
   "source": [
    "Z3 = np.arange(9).reshape(3,3)\n",
    "print(Z3)"
   ]
  },
  {
   "cell_type": "markdown",
   "metadata": {},
   "source": [
    "#### 4. Find indices of non-zero elements from \\[1,2,0,0,4,0\\] "
   ]
  },
  {
   "cell_type": "code",
   "execution_count": 12,
   "metadata": {},
   "outputs": [
    {
     "data": {
      "text/plain": [
       "(array([0, 1, 4]),)"
      ]
     },
     "execution_count": 12,
     "metadata": {},
     "output_type": "execute_result"
    }
   ],
   "source": [
    "X=np.array([1,2,0,0,4,0])\n",
    "l=np.where(X!=0)\n",
    "l"
   ]
  },
  {
   "cell_type": "markdown",
   "metadata": {},
   "source": [
    "#### 5. Create a 2d array with 1 on the border and 0 inside "
   ]
  },
  {
   "cell_type": "code",
   "execution_count": 22,
   "metadata": {},
   "outputs": [
    {
     "name": "stdout",
     "output_type": "stream",
     "text": [
      "[[1. 1. 1. 1. 1. 1. 1. 1. 1. 1.]\n",
      " [1. 0. 0. 0. 0. 0. 0. 0. 0. 1.]\n",
      " [1. 0. 0. 0. 0. 0. 0. 0. 0. 1.]\n",
      " [1. 0. 0. 0. 0. 0. 0. 0. 0. 1.]\n",
      " [1. 0. 0. 0. 0. 0. 0. 0. 0. 1.]\n",
      " [1. 0. 0. 0. 0. 0. 0. 0. 0. 1.]\n",
      " [1. 0. 0. 0. 0. 0. 0. 0. 0. 1.]\n",
      " [1. 0. 0. 0. 0. 0. 0. 0. 0. 1.]\n",
      " [1. 0. 0. 0. 0. 0. 0. 0. 0. 1.]\n",
      " [1. 1. 1. 1. 1. 1. 1. 1. 1. 1.]]\n"
     ]
    }
   ],
   "source": [
    "Z5 = np.ones((10,10))\n",
    "Z5[1:-1,1:-1] = 0 #or : Z[1:9,1:9] = 0\n",
    "print(Z5)"
   ]
  },
  {
   "cell_type": "markdown",
   "metadata": {},
   "source": [
    "#### 6. Create a 8x8 matrix and fill it with a checkerboard pattern (★)"
   ]
  },
  {
   "cell_type": "code",
   "execution_count": 23,
   "metadata": {},
   "outputs": [
    {
     "name": "stdout",
     "output_type": "stream",
     "text": [
      "[[0. 1. 0. 1. 0. 1. 0. 1.]\n",
      " [1. 0. 1. 0. 1. 0. 1. 0.]\n",
      " [0. 1. 0. 1. 0. 1. 0. 1.]\n",
      " [1. 0. 1. 0. 1. 0. 1. 0.]\n",
      " [0. 1. 0. 1. 0. 1. 0. 1.]\n",
      " [1. 0. 1. 0. 1. 0. 1. 0.]\n",
      " [0. 1. 0. 1. 0. 1. 0. 1.]\n",
      " [1. 0. 1. 0. 1. 0. 1. 0.]]\n"
     ]
    }
   ],
   "source": [
    "Z6 = np.zeros((8,8))\n",
    "Z6[1::2,::2] = 1\n",
    "Z6[::2,1::2] = 1\n",
    "print(Z6)"
   ]
  },
  {
   "cell_type": "markdown",
   "metadata": {},
   "source": [
    "#### 7. Given a 1D array, negate all elements which are between 3 and 8, in place. "
   ]
  },
  {
   "cell_type": "code",
   "execution_count": 25,
   "metadata": {},
   "outputs": [
    {
     "name": "stdout",
     "output_type": "stream",
     "text": [
      "[ 0  1  2  3 -4 -5 -6 -7 -8  9 10]\n"
     ]
    }
   ],
   "source": [
    "Z7 = np.arange(11)\n",
    "Z7[(Z7 > 3) & (Z7 <= 8)] *= -1\n",
    "print(Z7)"
   ]
  },
  {
   "cell_type": "markdown",
   "metadata": {},
   "source": [
    "####  8. Create a 5x5 matrix with row values ranging from 4 to 0 "
   ]
  },
  {
   "cell_type": "code",
   "execution_count": 30,
   "metadata": {},
   "outputs": [
    {
     "name": "stdout",
     "output_type": "stream",
     "text": [
      "[[4. 3. 2. 1. 0.]\n",
      " [4. 3. 2. 1. 0.]\n",
      " [4. 3. 2. 1. 0.]\n",
      " [4. 3. 2. 1. 0.]\n",
      " [4. 3. 2. 1. 0.]]\n"
     ]
    }
   ],
   "source": [
    "Z8 = np.zeros((5,5))\n",
    "Z8[:]=np.arange(5)[::-1]\n",
    "print(Z8)"
   ]
  },
  {
   "cell_type": "markdown",
   "metadata": {},
   "source": [
    "#### 9. Create random vector of size 10 and replace the maximum value by 0 "
   ]
  },
  {
   "cell_type": "code",
   "execution_count": 32,
   "metadata": {},
   "outputs": [
    {
     "name": "stdout",
     "output_type": "stream",
     "text": [
      "[-0.49436633  0.98486566 -0.4703151  -2.61722543 -0.52965314  1.57718895\n",
      " -0.12578647  0.77543401  2.60872893 -1.03894763]\n"
     ]
    },
    {
     "data": {
      "text/plain": [
       "array([-0.49436633,  0.98486566, -0.4703151 , -2.61722543, -0.52965314,\n",
       "        1.57718895, -0.12578647,  0.77543401,  0.        , -1.03894763])"
      ]
     },
     "execution_count": 32,
     "metadata": {},
     "output_type": "execute_result"
    }
   ],
   "source": [
    "Z9=np.random.randn(10)\n",
    "print(Z9)\n",
    "Z9[Z9==np.max(Z9)]=0\n",
    "Z9"
   ]
  },
  {
   "cell_type": "markdown",
   "metadata": {},
   "source": [
    "#### 10 Create a random vector of size 10 and sort it in both ascending and descending way"
   ]
  },
  {
   "cell_type": "code",
   "execution_count": 33,
   "metadata": {},
   "outputs": [
    {
     "name": "stdout",
     "output_type": "stream",
     "text": [
      "[-1.92935322 -1.51870092 -0.94560092 -0.80210565 -0.19057482 -0.08042946\n",
      "  0.05111914  0.57783773  0.5932261   0.87847252]\n",
      "[ 0.87847252  0.5932261   0.57783773  0.05111914 -0.08042946 -0.19057482\n",
      " -0.80210565 -0.94560092 -1.51870092 -1.92935322]\n"
     ]
    }
   ],
   "source": [
    "Z10=np.random.randn(10)\n",
    "Z10_ascending=np.sort(Z10)\n",
    "Z10_descending=np.sort(Z10)[::-1]\n",
    "print(Z10_ascending)\n",
    "print(Z10_descending)"
   ]
  },
  {
   "cell_type": "markdown",
   "metadata": {},
   "source": [
    "#### Qestion 6 :\n",
    "\n",
    "#### load the q3 variable form \"q3.npy\" and create a same-shaped array with np.random.randn(x,y); Afterwards, combine these arrays in both vertical and horizontal direction in a sorted way (axis=0 or 1)."
   ]
  },
  {
   "cell_type": "code",
   "execution_count": 61,
   "metadata": {},
   "outputs": [
    {
     "name": "stdout",
     "output_type": "stream",
     "text": [
      "q3: [[-0.93168824 -0.16892007 -0.10301861  0.59820906]\n",
      " [-0.49871331 -0.74482859  0.56573201 -1.02465373]\n",
      " [-0.47633474 -0.5145974   0.66564209 -0.74225427]]\n",
      "\n",
      "\n",
      "X6: [[ 1.01334898  0.15779089 -0.06761115 -0.76491008]\n",
      " [ 0.09436895  1.6940741  -0.50065269  0.05333269]\n",
      " [ 2.25101686 -0.49910645  0.14296212  0.00728033]]\n"
     ]
    }
   ],
   "source": [
    "np.random.seed(0)\n",
    "q3=np.load(\"q3.npy\")\n",
    "x6=np.random.randn(q3.shape[0],q3.shape[1])\n",
    "print(\"q3:\",q3)\n",
    "print(\"\\n\")\n",
    "print(\"X6:\",x6)"
   ]
  },
  {
   "cell_type": "code",
   "execution_count": 58,
   "metadata": {},
   "outputs": [
    {
     "data": {
      "text/plain": [
       "array([[-1.59617745, -0.74482859, -1.02717328, -1.02465373],\n",
       "       [-0.93168824, -0.5145974 , -0.5050606 , -0.74225427],\n",
       "       [-0.82607172, -0.16892007, -0.10301861, -0.01347838],\n",
       "       [-0.49871331,  0.12255205, -0.09918545,  0.59820906],\n",
       "       [-0.47633474,  1.21501261,  0.56573201,  1.14340333],\n",
       "       [ 0.57459799,  1.32232274,  0.66564209,  1.19595531]])"
      ]
     },
     "execution_count": 58,
     "metadata": {},
     "output_type": "execute_result"
    }
   ],
   "source": [
    "# np.vstack((q3,x6))\n",
    "np.sort(np.vstack((q3,x6)),axis=0) "
   ]
  },
  {
   "cell_type": "code",
   "execution_count": 59,
   "metadata": {},
   "outputs": [
    {
     "data": {
      "text/plain": [
       "array([[ 0.57459799,  1.32232274,  0.66564209,  1.19595531],\n",
       "       [-0.47633474,  1.21501261,  0.56573201,  1.14340333],\n",
       "       [-0.49871331,  0.12255205, -0.09918545,  0.59820906],\n",
       "       [-0.82607172, -0.16892007, -0.10301861, -0.01347838],\n",
       "       [-0.93168824, -0.5145974 , -0.5050606 , -0.74225427],\n",
       "       [-1.59617745, -0.74482859, -1.02717328, -1.02465373]])"
      ]
     },
     "execution_count": 59,
     "metadata": {},
     "output_type": "execute_result"
    }
   ],
   "source": [
    "# reverse :\n",
    "np.sort(np.vstack((q3,x6)),axis=0)[::-1]"
   ]
  },
  {
   "cell_type": "code",
   "execution_count": 56,
   "metadata": {},
   "outputs": [
    {
     "data": {
      "text/plain": [
       "array([[-1.59617745, -0.74482859, -1.02717328, -1.02465373],\n",
       "       [-0.93168824, -0.5145974 , -0.5050606 , -0.74225427],\n",
       "       [-0.82607172, -0.16892007, -0.10301861, -0.01347838],\n",
       "       [-0.49871331,  0.12255205, -0.09918545,  0.59820906],\n",
       "       [-0.47633474,  1.21501261,  0.56573201,  1.14340333],\n",
       "       [ 0.57459799,  1.32232274,  0.66564209,  1.19595531]])"
      ]
     },
     "execution_count": 56,
     "metadata": {},
     "output_type": "execute_result"
    }
   ],
   "source": [
    "np.sort(np.vstack((q3,x6)),axis=1) "
   ]
  },
  {
   "cell_type": "code",
   "execution_count": 60,
   "metadata": {},
   "outputs": [
    {
     "data": {
      "text/plain": [
       "array([[ 0.59820906, -0.10301861, -0.16892007, -0.93168824],\n",
       "       [ 0.56573201, -0.49871331, -0.74482859, -1.02465373],\n",
       "       [ 0.66564209, -0.47633474, -0.5145974 , -0.74225427],\n",
       "       [ 1.14340333,  0.12255205, -1.02717328, -1.59617745],\n",
       "       [ 1.21501261,  1.19595531,  0.57459799, -0.09918545],\n",
       "       [ 1.32232274, -0.01347838, -0.5050606 , -0.82607172]])"
      ]
     },
     "execution_count": 60,
     "metadata": {},
     "output_type": "execute_result"
    }
   ],
   "source": [
    "# reverse : \n",
    "np.sort(np.vstack((q3,x6)),axis=1)[:,::-1]"
   ]
  },
  {
   "cell_type": "code",
   "execution_count": null,
   "metadata": {},
   "outputs": [],
   "source": [
    "# np.hstack((q3,x6)):\n",
    "np.sort(np.hstack((q3,x6)),axis=0)\n",
    "np.sort(np.hstack((q3,x6)),axis=0)[::-1]\n",
    "np.sort(np.hstack((q3,x6)),axis=1) \n",
    "np.sort(np.hstack((q3,x6)),axis=1)[:,::-1]"
   ]
  },
  {
   "cell_type": "markdown",
   "metadata": {},
   "source": [
    "**Question 7**:\n",
    "\n",
    "#### create 3-dimentional (2,3,2) array with np.random.randn and sort it along its third axis."
   ]
  },
  {
   "cell_type": "code",
   "execution_count": 63,
   "metadata": {},
   "outputs": [
    {
     "data": {
      "text/plain": [
       "array([[[ 0.40015721,  1.76405235],\n",
       "        [ 0.97873798,  2.2408932 ],\n",
       "        [-0.97727788,  1.86755799]],\n",
       "\n",
       "       [[-0.15135721,  0.95008842],\n",
       "        [-0.10321885,  0.4105985 ],\n",
       "        [ 0.14404357,  1.45427351]]])"
      ]
     },
     "execution_count": 63,
     "metadata": {},
     "output_type": "execute_result"
    }
   ],
   "source": [
    "np.random.seed(0)\n",
    "np.sort(np.random.randn(2,3,2),axis=2)"
   ]
  },
  {
   "cell_type": "code",
   "execution_count": null,
   "metadata": {},
   "outputs": [],
   "source": []
  }
 ],
 "metadata": {
  "kernelspec": {
   "display_name": "Python 3",
   "language": "python",
   "name": "python3"
  },
  "language_info": {
   "codemirror_mode": {
    "name": "ipython",
    "version": 3
   },
   "file_extension": ".py",
   "mimetype": "text/x-python",
   "name": "python",
   "nbconvert_exporter": "python",
   "pygments_lexer": "ipython3",
   "version": "3.6.5"
  }
 },
 "nbformat": 4,
 "nbformat_minor": 2
}

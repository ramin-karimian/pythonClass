{
 "cells": [
  {
   "cell_type": "markdown",
   "metadata": {},
   "source": [
    "# 1. Introduction To Data Science"
   ]
  },
  {
   "cell_type": "markdown",
   "metadata": {},
   "source": [
    "<img src=\"images/1.png\" >\n"
   ]
  },
  {
   "cell_type": "markdown",
   "metadata": {},
   "source": [
    "<img src=\"images/2.png\" >"
   ]
  },
  {
   "cell_type": "markdown",
   "metadata": {},
   "source": [
    "<img src=\"images/3.png\" >"
   ]
  },
  {
   "cell_type": "markdown",
   "metadata": {},
   "source": [
    "<img src=\"images/4.png\" >"
   ]
  },
  {
   "cell_type": "markdown",
   "metadata": {},
   "source": [
    "<img src=\"images/4.png\" >"
   ]
  },
  {
   "cell_type": "markdown",
   "metadata": {},
   "source": [
    "<img src=\"images/5.png\" >"
   ]
  },
  {
   "cell_type": "markdown",
   "metadata": {},
   "source": [
    "Numpy and Pandas both are common among data scientists"
   ]
  },
  {
   "cell_type": "markdown",
   "metadata": {},
   "source": [
    "# 2. Numpy Package\n",
    "\n",
    "\n"
   ]
  },
  {
   "cell_type": "markdown",
   "metadata": {},
   "source": [
    "* multidimentional arrays and matrices\n",
    "* mathematical functions that base python lacks \n"
   ]
  },
  {
   "cell_type": "markdown",
   "metadata": {},
   "source": [
    " #### Installation :\n",
    "   run \"**pip install numpy**\" in Command Line Or Terminal"
   ]
  },
  {
   "cell_type": "code",
   "execution_count": 1,
   "metadata": {},
   "outputs": [],
   "source": [
    "import numpy as np"
   ]
  },
  {
   "cell_type": "markdown",
   "metadata": {},
   "source": []
  },
  {
   "cell_type": "markdown",
   "metadata": {},
   "source": [
    "## 2.1 Numpy Array Methods\n",
    "\n",
    "np.array()\n",
    "\n",
    "np.append()\n",
    "\n",
    "np.shape()\n",
    "\n",
    "np.insert()\n",
    "\n",
    "np.delete()\n",
    "\n",
    "np.mean()\n",
    "\n",
    "np.median()\n",
    "\n",
    "np.max()\n",
    "\n",
    "np.min()\n",
    "\n",
    "np.sum()\n",
    "\n",
    "np.exp()\n",
    "\n",
    "np.sqrt()\n",
    "\n",
    "np.multiply(q,b) => a*b\n",
    "\n",
    "np.dot(a,b)\n",
    "\n",
    "np.cumsum()\n",
    "\n",
    "np.std()\n",
    "\n",
    "np.log()\n",
    "\n",
    "\n",
    "...\n"
   ]
  },
  {
   "cell_type": "code",
   "execution_count": 138,
   "metadata": {},
   "outputs": [
    {
     "name": "stdout",
     "output_type": "stream",
     "text": [
      "append:  [ 1  2  3  4  5 34]\n",
      "shape:  (6,)\n",
      "my_list:  [1, 2, 3, 4, 5, 34]\n",
      " [66  1  2  3  4  5 34]\n",
      "insert : [66 54  1  2  3  4  5 34]\n",
      "delete:  [ 1  2  3  4  5 34]\n",
      "mean:  8.166666666666666\n",
      "median:  3.5\n"
     ]
    }
   ],
   "source": [
    "my_list=[1,2,3,4,5]\n",
    "my_array=np.array(my_list)\n",
    "\n",
    "my_array=np.append(my_array,34)\n",
    "print(\"append: \",my_array)\n",
    "print(\"shape: \",np.shape(my_array))\n",
    "\n",
    "\n",
    "# my_array=np.mean(my_array)\n",
    "\n",
    "# my_array=np.median(my_array)\n",
    "# my_array.corrcoef()\n",
    "# np.std(my_array)\n",
    "# np.append()\n"
   ]
  },
  {
   "cell_type": "code",
   "execution_count": null,
   "metadata": {},
   "outputs": [],
   "source": [
    "#np.insert\n",
    "my_array=np.insert(my_array, 1, 54)\n",
    "print(\"insert :\",my_array)"
   ]
  },
  {
   "cell_type": "code",
   "execution_count": null,
   "metadata": {},
   "outputs": [],
   "source": [
    "#np.delete\n",
    "my_array=np.delete(my_array,[1,0])\n",
    "print(\"delete: \",my_array)\n"
   ]
  },
  {
   "cell_type": "code",
   "execution_count": null,
   "metadata": {},
   "outputs": [],
   "source": [
    "#np.mean\n",
    "print(\"mean: \",np.mean(my_array))"
   ]
  },
  {
   "cell_type": "code",
   "execution_count": null,
   "metadata": {},
   "outputs": [],
   "source": [
    "#np.median\n",
    "print(\"median: \",np.median(my_array))\n"
   ]
  },
  {
   "cell_type": "markdown",
   "metadata": {},
   "source": [
    "## 2.2 Numpy Array Indexing"
   ]
  },
  {
   "cell_type": "code",
   "execution_count": 144,
   "metadata": {},
   "outputs": [
    {
     "name": "stdout",
     "output_type": "stream",
     "text": [
      "[3]\n"
     ]
    }
   ],
   "source": [
    "my_list=[1,2,3,4,5]\n",
    "my_array=np.array(my_list)\n",
    "print(my_array[0])\n"
   ]
  },
  {
   "cell_type": "code",
   "execution_count": null,
   "metadata": {},
   "outputs": [],
   "source": []
  },
  {
   "cell_type": "code",
   "execution_count": null,
   "metadata": {},
   "outputs": [],
   "source": [
    "print(my_array[(my_array>2) & (my_array<4)])\n"
   ]
  },
  {
   "cell_type": "code",
   "execution_count": null,
   "metadata": {},
   "outputs": [],
   "source": [
    "print(my_array[[1,3]])\n"
   ]
  },
  {
   "cell_type": "code",
   "execution_count": null,
   "metadata": {},
   "outputs": [],
   "source": [
    "print(my_array[1:4])\n"
   ]
  },
  {
   "cell_type": "code",
   "execution_count": null,
   "metadata": {},
   "outputs": [],
   "source": [
    "print(my_array[:4])\n"
   ]
  },
  {
   "cell_type": "code",
   "execution_count": null,
   "metadata": {},
   "outputs": [],
   "source": [
    "print(my_array[3:])\n"
   ]
  },
  {
   "cell_type": "code",
   "execution_count": null,
   "metadata": {},
   "outputs": [],
   "source": [
    "print(my_array[::-1])"
   ]
  },
  {
   "cell_type": "code",
   "execution_count": 145,
   "metadata": {},
   "outputs": [
    {
     "name": "stdout",
     "output_type": "stream",
     "text": [
      "[1 3 5]\n"
     ]
    }
   ],
   "source": [
    "print(my_array[::2])"
   ]
  },
  {
   "cell_type": "code",
   "execution_count": null,
   "metadata": {},
   "outputs": [],
   "source": []
  },
  {
   "cell_type": "markdown",
   "metadata": {},
   "source": [
    "## 2.3 Multidimentional array:"
   ]
  },
  {
   "cell_type": "code",
   "execution_count": 136,
   "metadata": {},
   "outputs": [],
   "source": [
    "arr1=np.array([[1,2,3],[1,2,34]])"
   ]
  },
  {
   "cell_type": "code",
   "execution_count": null,
   "metadata": {},
   "outputs": [],
   "source": [
    "arr2=np.ndarray((2,))"
   ]
  },
  {
   "cell_type": "code",
   "execution_count": null,
   "metadata": {},
   "outputs": [],
   "source": [
    "arr3=np.zeros((2,5))"
   ]
  },
  {
   "cell_type": "code",
   "execution_count": null,
   "metadata": {},
   "outputs": [],
   "source": [
    "arr4=np.ones((2,5))"
   ]
  },
  {
   "cell_type": "code",
   "execution_count": null,
   "metadata": {},
   "outputs": [],
   "source": [
    "arr6=np.random.random((2,3))"
   ]
  },
  {
   "cell_type": "code",
   "execution_count": null,
   "metadata": {},
   "outputs": [],
   "source": [
    "arr7=np.arange(0,8,2)"
   ]
  },
  {
   "cell_type": "code",
   "execution_count": null,
   "metadata": {},
   "outputs": [],
   "source": [
    "arr5=np.eye(5)"
   ]
  },
  {
   "cell_type": "code",
   "execution_count": null,
   "metadata": {},
   "outputs": [],
   "source": [
    "#shape\n",
    "arr6.shape[0]\n",
    "arr6.shape[1]"
   ]
  },
  {
   "cell_type": "markdown",
   "metadata": {},
   "source": [
    "## 2.4 Indexing Multidimentional Arrays\n"
   ]
  },
  {
   "cell_type": "code",
   "execution_count": 141,
   "metadata": {},
   "outputs": [
    {
     "name": "stdout",
     "output_type": "stream",
     "text": [
      "arr1[1,2]:  34\n",
      "arr1[:,2]:  [ 3 34]\n"
     ]
    }
   ],
   "source": [
    "print(\"arr1[1,2]: \",arr1[1,2])\n"
   ]
  },
  {
   "cell_type": "code",
   "execution_count": 58,
   "metadata": {},
   "outputs": [
    {
     "data": {
      "text/plain": [
       "array([[1., 1., 1., 1., 1.],\n",
       "       [1., 1., 1., 1., 1.]])"
      ]
     },
     "execution_count": 58,
     "metadata": {},
     "output_type": "execute_result"
    }
   ],
   "source": [
    "print(\"arr1[:,2]: \",arr1[:,2])\n"
   ]
  },
  {
   "cell_type": "markdown",
   "metadata": {},
   "source": [
    "** Question 1**: \n",
    "\n",
    "create a 2-dimentional random array in shape (4,5) and reverse the items in the second elemnt in the first axis(dimention) which are inside the 3rd and 4th items in the second axis.\n"
   ]
  },
  {
   "cell_type": "code",
   "execution_count": 160,
   "metadata": {},
   "outputs": [
    {
     "data": {
      "text/plain": [
       "array([[0.5488135 , 0.71518937, 0.60276338, 0.54488318, 0.4236548 ],\n",
       "       [0.64589411, 0.43758721, 0.891773  , 0.96366276, 0.38344152],\n",
       "       [0.79172504, 0.52889492, 0.56804456, 0.92559664, 0.07103606],\n",
       "       [0.0871293 , 0.0202184 , 0.83261985, 0.77815675, 0.87001215]])"
      ]
     },
     "execution_count": 160,
     "metadata": {},
     "output_type": "execute_result"
    }
   ],
   "source": [
    "np.random.seed(0)\n",
    "x1=np.random.random((4,5))\n",
    "x1"
   ]
  },
  {
   "cell_type": "code",
   "execution_count": 158,
   "metadata": {},
   "outputs": [
    {
     "data": {
      "text/plain": [
       "array([[0.5488135 , 0.71518937, 0.60276338, 0.54488318, 0.4236548 ],\n",
       "       [0.64589411, 0.43758721, 0.891773  , 0.96366276, 0.38344152],\n",
       "       [0.79172504, 0.52889492, 0.56804456, 0.07103606, 0.92559664],\n",
       "       [0.0871293 , 0.0202184 , 0.83261985, 0.77815675, 0.87001215]])"
      ]
     },
     "execution_count": 158,
     "metadata": {},
     "output_type": "execute_result"
    }
   ],
   "source": [
    "x1[2,[3,4]]=x1[2,[3,4]][::-1]\n",
    "x1"
   ]
  },
  {
   "cell_type": "markdown",
   "metadata": {},
   "source": [
    "**Question 2**: \n",
    "\n",
    "create an array with the same shape as array x2, and fill it with the values of array x1 subtracetd by the mean of its values and divided to the standard deviation.\n"
   ]
  },
  {
   "cell_type": "code",
   "execution_count": 167,
   "metadata": {},
   "outputs": [],
   "source": [
    "x2=np.array([[1,4,3,2,3,0],[23,59,0,-12,4,0]])"
   ]
  },
  {
   "cell_type": "code",
   "execution_count": 169,
   "metadata": {},
   "outputs": [
    {
     "data": {
      "text/plain": [
       "array([[-0.36193893, -0.18820824, -0.24611847, -0.3040287 , -0.24611847,\n",
       "        -0.41984916],\n",
       "       [ 0.91208611,  2.99685436, -0.41984916, -1.11477191, -0.18820824,\n",
       "        -0.41984916]])"
      ]
     },
     "execution_count": 169,
     "metadata": {},
     "output_type": "execute_result"
    }
   ],
   "source": [
    "x2=(x2-np.mean(x2))/np.std(x2)\n",
    "x2\n"
   ]
  },
  {
   "cell_type": "markdown",
   "metadata": {},
   "source": [
    "## 2.5 Reshape Array"
   ]
  },
  {
   "cell_type": "code",
   "execution_count": 147,
   "metadata": {},
   "outputs": [],
   "source": [
    "arr4=np.ones((2,5))"
   ]
  },
  {
   "cell_type": "code",
   "execution_count": null,
   "metadata": {},
   "outputs": [],
   "source": [
    "arr4.reshape((5,2))"
   ]
  },
  {
   "cell_type": "code",
   "execution_count": null,
   "metadata": {},
   "outputs": [],
   "source": [
    "arr4.transpose()"
   ]
  },
  {
   "cell_type": "markdown",
   "metadata": {},
   "source": [
    "## 2.6 Input and Output Variables"
   ]
  },
  {
   "cell_type": "code",
   "execution_count": 143,
   "metadata": {},
   "outputs": [
    {
     "data": {
      "text/plain": [
       "7"
      ]
     },
     "execution_count": 143,
     "metadata": {},
     "output_type": "execute_result"
    }
   ],
   "source": [
    "np.save(\"array4\",arr4)\n",
    "arr4=7\n",
    "arr4"
   ]
  },
  {
   "cell_type": "code",
   "execution_count": 61,
   "metadata": {},
   "outputs": [
    {
     "data": {
      "text/plain": [
       "array([[1., 1., 1., 1., 1.],\n",
       "       [1., 1., 1., 1., 1.]])"
      ]
     },
     "execution_count": 61,
     "metadata": {},
     "output_type": "execute_result"
    }
   ],
   "source": [
    "arr4=np.load(\"array4.npy\")\n",
    "arr4"
   ]
  },
  {
   "cell_type": "markdown",
   "metadata": {},
   "source": [
    "**Question 3**:\n",
    "\n",
    "load the q3 array from \"q3.npy\" and implement Dot product of its transposed array with the array x3.\n"
   ]
  },
  {
   "cell_type": "code",
   "execution_count": 81,
   "metadata": {},
   "outputs": [],
   "source": [
    "x3=np.ones((3,4))"
   ]
  },
  {
   "cell_type": "code",
   "execution_count": 82,
   "metadata": {},
   "outputs": [
    {
     "data": {
      "text/plain": [
       "array([[-1.20362692, -1.20362692, -1.20362692, -1.20362692],\n",
       "       [-0.64533283, -0.64533283, -0.64533283, -0.64533283],\n",
       "       [-0.93525646, -0.93525646, -0.93525646, -0.93525646],\n",
       "       [-0.59120958, -0.59120958, -0.59120958, -0.59120958]])"
      ]
     },
     "execution_count": 82,
     "metadata": {},
     "output_type": "execute_result"
    }
   ],
   "source": [
    "q3=np.load(\"q3.npy\")\n",
    "np.dot(q3.reshape((4,3)),x3)\n"
   ]
  },
  {
   "cell_type": "markdown",
   "metadata": {},
   "source": [
    "## 2.7 Inspecting Array\n"
   ]
  },
  {
   "cell_type": "code",
   "execution_count": 146,
   "metadata": {},
   "outputs": [
    {
     "name": "stdout",
     "output_type": "stream",
     "text": [
      "a.shape:  (2, 2)\n",
      "len(a):  2\n",
      "a.size:  4\n",
      "a.dtype:  int64\n"
     ]
    },
    {
     "data": {
      "text/plain": [
       "array([[b'100', b'3'],\n",
       "       [b'22', b'1000']], dtype='|S21')"
      ]
     },
     "execution_count": 146,
     "metadata": {},
     "output_type": "execute_result"
    }
   ],
   "source": [
    "a=np.array([[100,3],[22,1000]])\n",
    "a"
   ]
  },
  {
   "cell_type": "code",
   "execution_count": null,
   "metadata": {},
   "outputs": [],
   "source": [
    "print(\"a.shape: \",a.shape)\n"
   ]
  },
  {
   "cell_type": "code",
   "execution_count": null,
   "metadata": {},
   "outputs": [],
   "source": [
    "print(\"len(a): \",len(a))\n"
   ]
  },
  {
   "cell_type": "code",
   "execution_count": null,
   "metadata": {},
   "outputs": [],
   "source": [
    "print(\"a.size: \",a.size)\n"
   ]
  },
  {
   "cell_type": "code",
   "execution_count": null,
   "metadata": {},
   "outputs": [],
   "source": [
    "print(\"a.dtype: \",a.dtype)\n"
   ]
  },
  {
   "cell_type": "code",
   "execution_count": null,
   "metadata": {},
   "outputs": [],
   "source": [
    "a=a.astype(np.string_)\n",
    "a"
   ]
  },
  {
   "cell_type": "code",
   "execution_count": null,
   "metadata": {},
   "outputs": [],
   "source": []
  },
  {
   "cell_type": "markdown",
   "metadata": {},
   "source": [
    "## 2.8 Sorting\n"
   ]
  },
  {
   "cell_type": "code",
   "execution_count": 154,
   "metadata": {},
   "outputs": [
    {
     "name": "stdout",
     "output_type": "stream",
     "text": [
      "[[  1 100  12]\n",
      " [ 20 200  20]]\n"
     ]
    }
   ],
   "source": [
    "# b=np.array([1,200,20])\n",
    "b=np.array([[1,200,20],[20,100,12]])\n",
    "print(np.sort(b,axis=0))\n"
   ]
  },
  {
   "cell_type": "code",
   "execution_count": null,
   "metadata": {},
   "outputs": [],
   "source": [
    "print(np.sort(b,axis=1))"
   ]
  },
  {
   "cell_type": "code",
   "execution_count": null,
   "metadata": {},
   "outputs": [],
   "source": [
    "print(np.sort(b,axis=0)[::-1])"
   ]
  },
  {
   "cell_type": "code",
   "execution_count": null,
   "metadata": {},
   "outputs": [],
   "source": []
  },
  {
   "cell_type": "code",
   "execution_count": null,
   "metadata": {},
   "outputs": [],
   "source": []
  },
  {
   "cell_type": "markdown",
   "metadata": {},
   "source": [
    "## 2.9  Combining Arrays \n",
    "\n",
    "note: arrays should be in same dims."
   ]
  },
  {
   "cell_type": "code",
   "execution_count": 14,
   "metadata": {},
   "outputs": [
    {
     "data": {
      "text/plain": [
       "array([ 1,  4,  2, 50, 40, 20])"
      ]
     },
     "execution_count": 14,
     "metadata": {},
     "output_type": "execute_result"
    }
   ],
   "source": [
    "c=np.array([1,4,2])\n",
    "d=np.array([50,40,20])\n",
    "np.concatenate((c,d))\n",
    "\n"
   ]
  },
  {
   "cell_type": "code",
   "execution_count": 21,
   "metadata": {},
   "outputs": [
    {
     "data": {
      "text/plain": [
       "array([[   1,    4,   50,   40],\n",
       "       [   2,    6, 1000, 2000]])"
      ]
     },
     "execution_count": 21,
     "metadata": {},
     "output_type": "execute_result"
    }
   ],
   "source": [
    "e=np.array([[1,4],[2,6]])\n",
    "f=np.array([[50,40],[1000,2000]])\n",
    "np.concatenate((e,f),axis=1)   # axis=0 => np.vstack((e,f)) AND axis=1 => np.hstack((e,f))\n"
   ]
  },
  {
   "cell_type": "code",
   "execution_count": null,
   "metadata": {},
   "outputs": [],
   "source": [
    "np.vstack((e,f))\n"
   ]
  },
  {
   "cell_type": "code",
   "execution_count": null,
   "metadata": {},
   "outputs": [],
   "source": [
    "np.hstack((e,f))"
   ]
  },
  {
   "cell_type": "markdown",
   "metadata": {},
   "source": [
    "**Question 4**: \n",
    "\n",
    "look in the items inside the array x4 and replace the values more than 10 with -100 value"
   ]
  },
  {
   "cell_type": "code",
   "execution_count": 96,
   "metadata": {},
   "outputs": [],
   "source": [
    "x4=np.array([range(9,12),[13,8,0]])\n"
   ]
  },
  {
   "cell_type": "code",
   "execution_count": 95,
   "metadata": {},
   "outputs": [
    {
     "data": {
      "text/plain": [
       "array([[   9,   10, -100],\n",
       "       [-100,    8,    0]])"
      ]
     },
     "execution_count": 95,
     "metadata": {},
     "output_type": "execute_result"
    }
   ],
   "source": [
    "x4[x4>10]=-100\n",
    "for i in range(x4.shape[0]):\n",
    "    for j in range(x4.shape[1]):\n",
    "        if x4[i,j]>10:\n",
    "            x4[i,j]=-100\n",
    "x4"
   ]
  },
  {
   "cell_type": "markdown",
   "metadata": {},
   "source": [
    "**Question 5 **:\n",
    " \n",
    " Delete the elements in the array x5 which are larger than 10 and smaller than 20.\n",
    " \n",
    " Hint: use np.where(consition,listOfIndex)"
   ]
  },
  {
   "cell_type": "code",
   "execution_count": 133,
   "metadata": {},
   "outputs": [],
   "source": [
    "x5=np.array([1,3,13,20,8,0,12,23,10,2,3])"
   ]
  },
  {
   "cell_type": "code",
   "execution_count": 170,
   "metadata": {},
   "outputs": [
    {
     "data": {
      "text/plain": [
       "array([ 1,  3, 20,  8,  0, 23,  2,  3])"
      ]
     },
     "execution_count": 170,
     "metadata": {},
     "output_type": "execute_result"
    }
   ],
   "source": [
    "l=np.where((x5>=10) &( x5<20))\n",
    "x5=np.delete(x5,l)\n",
    "x5\n"
   ]
  },
  {
   "cell_type": "markdown",
   "metadata": {},
   "source": [
    "**Qestion 6 **:\n",
    "\n",
    "load the q3 variable form \"q3.npy\" and create a same-shaped array with np.random.randn(x,y); Afterwards, combine these arrays in both vertical and horizontal direction in a sorted way (axis=0 or 1)."
   ]
  },
  {
   "cell_type": "code",
   "execution_count": null,
   "metadata": {},
   "outputs": [],
   "source": [
    "np.random.seed(0)"
   ]
  },
  {
   "cell_type": "code",
   "execution_count": 177,
   "metadata": {},
   "outputs": [
    {
     "data": {
      "text/plain": [
       "array([[-0.93168824, -0.74482859, -0.10301861, -1.02465373, -1.07075262,\n",
       "         0.97663904, -0.40317695,  0.40198936],\n",
       "       [-0.49871331, -0.5145974 ,  0.56573201, -0.74225427,  0.01050002,\n",
       "         1.05445173,  0.12691209,  0.70657317],\n",
       "       [-0.47633474, -0.16892007,  0.66564209,  0.59820906,  0.20827498,\n",
       "         1.78587049,  0.3563664 ,  1.22244507]])"
      ]
     },
     "execution_count": 177,
     "metadata": {},
     "output_type": "execute_result"
    }
   ],
   "source": [
    "q3=np.load(\"q3.npy\")\n",
    "x6=np.random.randn(q3.shape[0],q3.shape[1])\n",
    "np.vstack((q3,x6))\n",
    "np.sort(np.hstack((q3,x6)),axis=0)"
   ]
  },
  {
   "cell_type": "markdown",
   "metadata": {},
   "source": [
    "**Question 7**:\n",
    "\n",
    "create 3-dimentional (2,3,2) array with np.random.randn and sort it along its third axis.\n"
   ]
  },
  {
   "cell_type": "code",
   "execution_count": 185,
   "metadata": {},
   "outputs": [
    {
     "data": {
      "text/plain": [
       "array([[[-1.60205766,  0.62523145],\n",
       "        [-1.10438334,  0.05216508],\n",
       "        [-0.739563  ,  1.5430146 ]],\n",
       "\n",
       "       [[-1.29285691,  0.26705087],\n",
       "        [-1.1680935 , -0.03928282],\n",
       "        [-0.17154633,  0.52327666]]])"
      ]
     },
     "execution_count": 185,
     "metadata": {},
     "output_type": "execute_result"
    }
   ],
   "source": [
    "np.sort(np.random.randn(2,3,2),axis=2)"
   ]
  },
  {
   "cell_type": "markdown",
   "metadata": {},
   "source": [
    "# Pandas Package\n"
   ]
  },
  {
   "cell_type": "markdown",
   "metadata": {},
   "source": [
    "* Python library for data analysis\n",
    "* High-performance containers for data analysis\n",
    "* Data structures with a lot of functionality\n",
    "* Meaningful labels\n",
    "* handle data in a way suited to analysis\n",
    "similar to R"
   ]
  },
  {
   "cell_type": "markdown",
   "metadata": {},
   "source": [
    "pip install pandas"
   ]
  },
  {
   "cell_type": "code",
   "execution_count": 5,
   "metadata": {},
   "outputs": [],
   "source": [
    "import pandas as pd "
   ]
  },
  {
   "cell_type": "code",
   "execution_count": 9,
   "metadata": {},
   "outputs": [
    {
     "name": "stdout",
     "output_type": "stream",
     "text": [
      "<class 'pandas.core.frame.DataFrame'>\n",
      "RangeIndex: 6962 entries, 0 to 6961\n",
      "Data columns (total 10 columns):\n",
      "ID            6962 non-null int64\n",
      "SchoolCode    6962 non-null object\n",
      "SchoolName    6962 non-null object\n",
      "Address       6962 non-null object\n",
      "City          6962 non-null object\n",
      "StateCode     6962 non-null object\n",
      "ZipCode       6962 non-null int64\n",
      "Province      111 non-null object\n",
      "Country       402 non-null object\n",
      "PostalCode    229 non-null object\n",
      "dtypes: int64(2), object(8)\n",
      "memory usage: 544.0+ KB\n"
     ]
    }
   ],
   "source": [
    "df=pd.read_excel(\"dataset.xlsx\")\n",
    "df.info()"
   ]
  },
  {
   "cell_type": "code",
   "execution_count": 10,
   "metadata": {},
   "outputs": [
    {
     "data": {
      "text/plain": [
       "(6962, 10)"
      ]
     },
     "execution_count": 10,
     "metadata": {},
     "output_type": "execute_result"
    }
   ],
   "source": [
    "df.shape"
   ]
  },
  {
   "cell_type": "code",
   "execution_count": 11,
   "metadata": {},
   "outputs": [
    {
     "data": {
      "text/plain": [
       "Index(['ID', 'SchoolCode', 'SchoolName', 'Address', 'City', 'StateCode',\n",
       "       'ZipCode', 'Province', 'Country', 'PostalCode'],\n",
       "      dtype='object')"
      ]
     },
     "execution_count": 11,
     "metadata": {},
     "output_type": "execute_result"
    }
   ],
   "source": [
    "df.columns"
   ]
  },
  {
   "cell_type": "code",
   "execution_count": 14,
   "metadata": {},
   "outputs": [
    {
     "data": {
      "text/plain": [
       "RangeIndex(start=0, stop=6962, step=1)"
      ]
     },
     "execution_count": 14,
     "metadata": {},
     "output_type": "execute_result"
    }
   ],
   "source": [
    "df.index"
   ]
  },
  {
   "cell_type": "code",
   "execution_count": 17,
   "metadata": {},
   "outputs": [
    {
     "data": {
      "text/html": [
       "<div>\n",
       "<style scoped>\n",
       "    .dataframe tbody tr th:only-of-type {\n",
       "        vertical-align: middle;\n",
       "    }\n",
       "\n",
       "    .dataframe tbody tr th {\n",
       "        vertical-align: top;\n",
       "    }\n",
       "\n",
       "    .dataframe thead th {\n",
       "        text-align: right;\n",
       "    }\n",
       "</style>\n",
       "<table border=\"1\" class=\"dataframe\">\n",
       "  <thead>\n",
       "    <tr style=\"text-align: right;\">\n",
       "      <th></th>\n",
       "      <th>ID</th>\n",
       "      <th>SchoolCode</th>\n",
       "      <th>SchoolName</th>\n",
       "      <th>Address</th>\n",
       "      <th>City</th>\n",
       "      <th>StateCode</th>\n",
       "      <th>ZipCode</th>\n",
       "      <th>Province</th>\n",
       "      <th>Country</th>\n",
       "      <th>PostalCode</th>\n",
       "    </tr>\n",
       "  </thead>\n",
       "  <tbody>\n",
       "    <tr>\n",
       "      <th>0</th>\n",
       "      <td>25969</td>\n",
       "      <td>B04724</td>\n",
       "      <td>WIDENER UNIV SCHOOL OF LAW - DE</td>\n",
       "      <td>4601 CONCORD PIKE/PO BOX 7474</td>\n",
       "      <td>WILMINGTON</td>\n",
       "      <td>DE</td>\n",
       "      <td>19803</td>\n",
       "      <td>NaN</td>\n",
       "      <td>NaN</td>\n",
       "      <td>NaN</td>\n",
       "    </tr>\n",
       "    <tr>\n",
       "      <th>1</th>\n",
       "      <td>25970</td>\n",
       "      <td>B06171</td>\n",
       "      <td>CENTER FOR ADVANCED STUDIES OF PUER</td>\n",
       "      <td>BOX S-4467</td>\n",
       "      <td>SAN JUAN</td>\n",
       "      <td>PR</td>\n",
       "      <td>902</td>\n",
       "      <td>NaN</td>\n",
       "      <td>NaN</td>\n",
       "      <td>NaN</td>\n",
       "    </tr>\n",
       "  </tbody>\n",
       "</table>\n",
       "</div>"
      ],
      "text/plain": [
       "      ID SchoolCode                           SchoolName  \\\n",
       "0  25969     B04724      WIDENER UNIV SCHOOL OF LAW - DE   \n",
       "1  25970     B06171  CENTER FOR ADVANCED STUDIES OF PUER   \n",
       "\n",
       "                         Address        City StateCode  ZipCode Province  \\\n",
       "0  4601 CONCORD PIKE/PO BOX 7474  WILMINGTON        DE    19803      NaN   \n",
       "1                     BOX S-4467    SAN JUAN        PR      902      NaN   \n",
       "\n",
       "  Country PostalCode  \n",
       "0     NaN        NaN  \n",
       "1     NaN        NaN  "
      ]
     },
     "execution_count": 17,
     "metadata": {},
     "output_type": "execute_result"
    }
   ],
   "source": [
    "df.head(2)"
   ]
  },
  {
   "cell_type": "code",
   "execution_count": 18,
   "metadata": {},
   "outputs": [
    {
     "data": {
      "text/html": [
       "<div>\n",
       "<style scoped>\n",
       "    .dataframe tbody tr th:only-of-type {\n",
       "        vertical-align: middle;\n",
       "    }\n",
       "\n",
       "    .dataframe tbody tr th {\n",
       "        vertical-align: top;\n",
       "    }\n",
       "\n",
       "    .dataframe thead th {\n",
       "        text-align: right;\n",
       "    }\n",
       "</style>\n",
       "<table border=\"1\" class=\"dataframe\">\n",
       "  <thead>\n",
       "    <tr style=\"text-align: right;\">\n",
       "      <th></th>\n",
       "      <th>ID</th>\n",
       "      <th>SchoolCode</th>\n",
       "      <th>SchoolName</th>\n",
       "      <th>Address</th>\n",
       "      <th>City</th>\n",
       "      <th>StateCode</th>\n",
       "      <th>ZipCode</th>\n",
       "      <th>Province</th>\n",
       "      <th>Country</th>\n",
       "      <th>PostalCode</th>\n",
       "    </tr>\n",
       "  </thead>\n",
       "  <tbody>\n",
       "    <tr>\n",
       "      <th>6958</th>\n",
       "      <td>32927</td>\n",
       "      <td>042496</td>\n",
       "      <td>WESTCLIFF UNIVERSITY</td>\n",
       "      <td>4199 CAMPUS DRIVE #650</td>\n",
       "      <td>IRVINE</td>\n",
       "      <td>CA</td>\n",
       "      <td>92612</td>\n",
       "      <td>NaN</td>\n",
       "      <td>NaN</td>\n",
       "      <td>NaN</td>\n",
       "    </tr>\n",
       "    <tr>\n",
       "      <th>6959</th>\n",
       "      <td>32928</td>\n",
       "      <td>042534</td>\n",
       "      <td>CLOVIS COMMUNITY COLLEGE</td>\n",
       "      <td>10309 NORTH WILLOW AVENUE</td>\n",
       "      <td>FRESNO</td>\n",
       "      <td>CA</td>\n",
       "      <td>93730</td>\n",
       "      <td>NaN</td>\n",
       "      <td>NaN</td>\n",
       "      <td>NaN</td>\n",
       "    </tr>\n",
       "    <tr>\n",
       "      <th>6960</th>\n",
       "      <td>32929</td>\n",
       "      <td>042577</td>\n",
       "      <td>TOTALLY COSMO SCHOOL OF MODERN COSMETOLO</td>\n",
       "      <td>110 NORTH BROADWAY</td>\n",
       "      <td>BROKEN BOW</td>\n",
       "      <td>OK</td>\n",
       "      <td>74728</td>\n",
       "      <td>NaN</td>\n",
       "      <td>NaN</td>\n",
       "      <td>NaN</td>\n",
       "    </tr>\n",
       "    <tr>\n",
       "      <th>6961</th>\n",
       "      <td>32930</td>\n",
       "      <td>042488</td>\n",
       "      <td>WONGU UNIVERSITY OF ORIENTAL MEDICINE</td>\n",
       "      <td>8620 SOUTH EASTERN AVENUE</td>\n",
       "      <td>LAS VEGAS</td>\n",
       "      <td>NV</td>\n",
       "      <td>89123</td>\n",
       "      <td>NaN</td>\n",
       "      <td>NaN</td>\n",
       "      <td>NaN</td>\n",
       "    </tr>\n",
       "  </tbody>\n",
       "</table>\n",
       "</div>"
      ],
      "text/plain": [
       "         ID SchoolCode                                SchoolName  \\\n",
       "6958  32927     042496                      WESTCLIFF UNIVERSITY   \n",
       "6959  32928     042534                  CLOVIS COMMUNITY COLLEGE   \n",
       "6960  32929     042577  TOTALLY COSMO SCHOOL OF MODERN COSMETOLO   \n",
       "6961  32930     042488     WONGU UNIVERSITY OF ORIENTAL MEDICINE   \n",
       "\n",
       "                        Address        City StateCode  ZipCode Province  \\\n",
       "6958     4199 CAMPUS DRIVE #650      IRVINE        CA    92612      NaN   \n",
       "6959  10309 NORTH WILLOW AVENUE      FRESNO        CA    93730      NaN   \n",
       "6960         110 NORTH BROADWAY  BROKEN BOW        OK    74728      NaN   \n",
       "6961  8620 SOUTH EASTERN AVENUE   LAS VEGAS        NV    89123      NaN   \n",
       "\n",
       "     Country PostalCode  \n",
       "6958     NaN        NaN  \n",
       "6959     NaN        NaN  \n",
       "6960     NaN        NaN  \n",
       "6961     NaN        NaN  "
      ]
     },
     "execution_count": 18,
     "metadata": {},
     "output_type": "execute_result"
    }
   ],
   "source": [
    "df.tail(4)"
   ]
  },
  {
   "cell_type": "markdown",
   "metadata": {},
   "source": [
    "## Slicing"
   ]
  },
  {
   "cell_type": "code",
   "execution_count": 21,
   "metadata": {},
   "outputs": [
    {
     "data": {
      "text/html": [
       "<div>\n",
       "<style scoped>\n",
       "    .dataframe tbody tr th:only-of-type {\n",
       "        vertical-align: middle;\n",
       "    }\n",
       "\n",
       "    .dataframe tbody tr th {\n",
       "        vertical-align: top;\n",
       "    }\n",
       "\n",
       "    .dataframe thead th {\n",
       "        text-align: right;\n",
       "    }\n",
       "</style>\n",
       "<table border=\"1\" class=\"dataframe\">\n",
       "  <thead>\n",
       "    <tr style=\"text-align: right;\">\n",
       "      <th></th>\n",
       "      <th>SchoolCode</th>\n",
       "      <th>SchoolName</th>\n",
       "      <th>Address</th>\n",
       "    </tr>\n",
       "  </thead>\n",
       "  <tbody>\n",
       "    <tr>\n",
       "      <th>0</th>\n",
       "      <td>B04724</td>\n",
       "      <td>WIDENER UNIV SCHOOL OF LAW - DE</td>\n",
       "      <td>4601 CONCORD PIKE/PO BOX 7474</td>\n",
       "    </tr>\n",
       "    <tr>\n",
       "      <th>1</th>\n",
       "      <td>B06171</td>\n",
       "      <td>CENTER FOR ADVANCED STUDIES OF PUER</td>\n",
       "      <td>BOX S-4467</td>\n",
       "    </tr>\n",
       "    <tr>\n",
       "      <th>2</th>\n",
       "      <td>B06511</td>\n",
       "      <td>PENTECOSTAL THEOLOGICAL SEMINARY</td>\n",
       "      <td>PO BOX 3330</td>\n",
       "    </tr>\n",
       "    <tr>\n",
       "      <th>3</th>\n",
       "      <td>B07022</td>\n",
       "      <td>THE CHICAGO SCHOOL OF PROF PSYCHOLOGY</td>\n",
       "      <td>325 NORTH WELLS STREET</td>\n",
       "    </tr>\n",
       "    <tr>\n",
       "      <th>4</th>\n",
       "      <td>B07624</td>\n",
       "      <td>NATIONAL COLLEGE OF NATURAL MEDICINE</td>\n",
       "      <td>049 SW PORTER</td>\n",
       "    </tr>\n",
       "  </tbody>\n",
       "</table>\n",
       "</div>"
      ],
      "text/plain": [
       "  SchoolCode                             SchoolName  \\\n",
       "0     B04724        WIDENER UNIV SCHOOL OF LAW - DE   \n",
       "1     B06171    CENTER FOR ADVANCED STUDIES OF PUER   \n",
       "2     B06511       PENTECOSTAL THEOLOGICAL SEMINARY   \n",
       "3     B07022  THE CHICAGO SCHOOL OF PROF PSYCHOLOGY   \n",
       "4     B07624   NATIONAL COLLEGE OF NATURAL MEDICINE   \n",
       "\n",
       "                         Address  \n",
       "0  4601 CONCORD PIKE/PO BOX 7474  \n",
       "1                     BOX S-4467  \n",
       "2                    PO BOX 3330  \n",
       "3         325 NORTH WELLS STREET  \n",
       "4                  049 SW PORTER  "
      ]
     },
     "execution_count": 21,
     "metadata": {},
     "output_type": "execute_result"
    }
   ],
   "source": [
    "df.iloc[:5,1:4]"
   ]
  },
  {
   "cell_type": "code",
   "execution_count": 22,
   "metadata": {},
   "outputs": [
    {
     "data": {
      "text/html": [
       "<div>\n",
       "<style scoped>\n",
       "    .dataframe tbody tr th:only-of-type {\n",
       "        vertical-align: middle;\n",
       "    }\n",
       "\n",
       "    .dataframe tbody tr th {\n",
       "        vertical-align: top;\n",
       "    }\n",
       "\n",
       "    .dataframe thead th {\n",
       "        text-align: right;\n",
       "    }\n",
       "</style>\n",
       "<table border=\"1\" class=\"dataframe\">\n",
       "  <thead>\n",
       "    <tr style=\"text-align: right;\">\n",
       "      <th></th>\n",
       "      <th>SchoolCode</th>\n",
       "      <th>Address</th>\n",
       "    </tr>\n",
       "  </thead>\n",
       "  <tbody>\n",
       "    <tr>\n",
       "      <th>0</th>\n",
       "      <td>B04724</td>\n",
       "      <td>4601 CONCORD PIKE/PO BOX 7474</td>\n",
       "    </tr>\n",
       "    <tr>\n",
       "      <th>1</th>\n",
       "      <td>B06171</td>\n",
       "      <td>BOX S-4467</td>\n",
       "    </tr>\n",
       "    <tr>\n",
       "      <th>2</th>\n",
       "      <td>B06511</td>\n",
       "      <td>PO BOX 3330</td>\n",
       "    </tr>\n",
       "    <tr>\n",
       "      <th>3</th>\n",
       "      <td>B07022</td>\n",
       "      <td>325 NORTH WELLS STREET</td>\n",
       "    </tr>\n",
       "    <tr>\n",
       "      <th>4</th>\n",
       "      <td>B07624</td>\n",
       "      <td>049 SW PORTER</td>\n",
       "    </tr>\n",
       "  </tbody>\n",
       "</table>\n",
       "</div>"
      ],
      "text/plain": [
       "  SchoolCode                        Address\n",
       "0     B04724  4601 CONCORD PIKE/PO BOX 7474\n",
       "1     B06171                     BOX S-4467\n",
       "2     B06511                    PO BOX 3330\n",
       "3     B07022         325 NORTH WELLS STREET\n",
       "4     B07624                  049 SW PORTER"
      ]
     },
     "execution_count": 22,
     "metadata": {},
     "output_type": "execute_result"
    }
   ],
   "source": [
    "df.iloc[:5,[1,3]]"
   ]
  },
  {
   "cell_type": "code",
   "execution_count": 24,
   "metadata": {},
   "outputs": [
    {
     "data": {
      "text/html": [
       "<div>\n",
       "<style scoped>\n",
       "    .dataframe tbody tr th:only-of-type {\n",
       "        vertical-align: middle;\n",
       "    }\n",
       "\n",
       "    .dataframe tbody tr th {\n",
       "        vertical-align: top;\n",
       "    }\n",
       "\n",
       "    .dataframe thead th {\n",
       "        text-align: right;\n",
       "    }\n",
       "</style>\n",
       "<table border=\"1\" class=\"dataframe\">\n",
       "  <thead>\n",
       "    <tr style=\"text-align: right;\">\n",
       "      <th></th>\n",
       "      <th>SchoolCode</th>\n",
       "      <th>Address</th>\n",
       "    </tr>\n",
       "  </thead>\n",
       "  <tbody>\n",
       "    <tr>\n",
       "      <th>0</th>\n",
       "      <td>B04724</td>\n",
       "      <td>4601 CONCORD PIKE/PO BOX 7474</td>\n",
       "    </tr>\n",
       "    <tr>\n",
       "      <th>1</th>\n",
       "      <td>B06171</td>\n",
       "      <td>BOX S-4467</td>\n",
       "    </tr>\n",
       "    <tr>\n",
       "      <th>2</th>\n",
       "      <td>B06511</td>\n",
       "      <td>PO BOX 3330</td>\n",
       "    </tr>\n",
       "    <tr>\n",
       "      <th>3</th>\n",
       "      <td>B07022</td>\n",
       "      <td>325 NORTH WELLS STREET</td>\n",
       "    </tr>\n",
       "    <tr>\n",
       "      <th>4</th>\n",
       "      <td>B07624</td>\n",
       "      <td>049 SW PORTER</td>\n",
       "    </tr>\n",
       "    <tr>\n",
       "      <th>5</th>\n",
       "      <td>B07625</td>\n",
       "      <td>10525 SE CHERRY BLOSSOM DR</td>\n",
       "    </tr>\n",
       "  </tbody>\n",
       "</table>\n",
       "</div>"
      ],
      "text/plain": [
       "  SchoolCode                        Address\n",
       "0     B04724  4601 CONCORD PIKE/PO BOX 7474\n",
       "1     B06171                     BOX S-4467\n",
       "2     B06511                    PO BOX 3330\n",
       "3     B07022         325 NORTH WELLS STREET\n",
       "4     B07624                  049 SW PORTER\n",
       "5     B07625     10525 SE CHERRY BLOSSOM DR"
      ]
     },
     "execution_count": 24,
     "metadata": {},
     "output_type": "execute_result"
    }
   ],
   "source": [
    "df.loc[:5,[\"SchoolCode\",\"Address\"]]"
   ]
  },
  {
   "cell_type": "code",
   "execution_count": 28,
   "metadata": {},
   "outputs": [
    {
     "data": {
      "text/html": [
       "<div>\n",
       "<style scoped>\n",
       "    .dataframe tbody tr th:only-of-type {\n",
       "        vertical-align: middle;\n",
       "    }\n",
       "\n",
       "    .dataframe tbody tr th {\n",
       "        vertical-align: top;\n",
       "    }\n",
       "\n",
       "    .dataframe thead th {\n",
       "        text-align: right;\n",
       "    }\n",
       "</style>\n",
       "<table border=\"1\" class=\"dataframe\">\n",
       "  <thead>\n",
       "    <tr style=\"text-align: right;\">\n",
       "      <th></th>\n",
       "      <th>ID</th>\n",
       "      <th>SchoolCode</th>\n",
       "      <th>SchoolName</th>\n",
       "      <th>Address</th>\n",
       "      <th>City</th>\n",
       "      <th>StateCode</th>\n",
       "      <th>ZipCode</th>\n",
       "      <th>Province</th>\n",
       "      <th>Country</th>\n",
       "      <th>PostalCode</th>\n",
       "      <th>new</th>\n",
       "    </tr>\n",
       "  </thead>\n",
       "  <tbody>\n",
       "    <tr>\n",
       "      <th>6957</th>\n",
       "      <td>32926</td>\n",
       "      <td>E40436</td>\n",
       "      <td>FLORIDA CAREER COLLEGE - UEI COLLEGE - H</td>\n",
       "      <td>70-A FARM TO MARKET ROAD 1960 WEST</td>\n",
       "      <td>HOUSTON</td>\n",
       "      <td>TX</td>\n",
       "      <td>77090</td>\n",
       "      <td>NaN</td>\n",
       "      <td>NaN</td>\n",
       "      <td>NaN</td>\n",
       "      <td>NaN</td>\n",
       "    </tr>\n",
       "    <tr>\n",
       "      <th>6958</th>\n",
       "      <td>32927</td>\n",
       "      <td>042496</td>\n",
       "      <td>WESTCLIFF UNIVERSITY</td>\n",
       "      <td>4199 CAMPUS DRIVE #650</td>\n",
       "      <td>IRVINE</td>\n",
       "      <td>CA</td>\n",
       "      <td>92612</td>\n",
       "      <td>NaN</td>\n",
       "      <td>NaN</td>\n",
       "      <td>NaN</td>\n",
       "      <td>NaN</td>\n",
       "    </tr>\n",
       "    <tr>\n",
       "      <th>6959</th>\n",
       "      <td>32928</td>\n",
       "      <td>042534</td>\n",
       "      <td>CLOVIS COMMUNITY COLLEGE</td>\n",
       "      <td>10309 NORTH WILLOW AVENUE</td>\n",
       "      <td>FRESNO</td>\n",
       "      <td>CA</td>\n",
       "      <td>93730</td>\n",
       "      <td>NaN</td>\n",
       "      <td>NaN</td>\n",
       "      <td>NaN</td>\n",
       "      <td>NaN</td>\n",
       "    </tr>\n",
       "    <tr>\n",
       "      <th>6960</th>\n",
       "      <td>32929</td>\n",
       "      <td>042577</td>\n",
       "      <td>TOTALLY COSMO SCHOOL OF MODERN COSMETOLO</td>\n",
       "      <td>110 NORTH BROADWAY</td>\n",
       "      <td>BROKEN BOW</td>\n",
       "      <td>OK</td>\n",
       "      <td>74728</td>\n",
       "      <td>NaN</td>\n",
       "      <td>NaN</td>\n",
       "      <td>NaN</td>\n",
       "      <td>NaN</td>\n",
       "    </tr>\n",
       "    <tr>\n",
       "      <th>6961</th>\n",
       "      <td>32930</td>\n",
       "      <td>042488</td>\n",
       "      <td>WONGU UNIVERSITY OF ORIENTAL MEDICINE</td>\n",
       "      <td>8620 SOUTH EASTERN AVENUE</td>\n",
       "      <td>LAS VEGAS</td>\n",
       "      <td>NV</td>\n",
       "      <td>89123</td>\n",
       "      <td>NaN</td>\n",
       "      <td>NaN</td>\n",
       "      <td>NaN</td>\n",
       "      <td>NaN</td>\n",
       "    </tr>\n",
       "  </tbody>\n",
       "</table>\n",
       "</div>"
      ],
      "text/plain": [
       "         ID SchoolCode                                SchoolName  \\\n",
       "6957  32926     E40436  FLORIDA CAREER COLLEGE - UEI COLLEGE - H   \n",
       "6958  32927     042496                      WESTCLIFF UNIVERSITY   \n",
       "6959  32928     042534                  CLOVIS COMMUNITY COLLEGE   \n",
       "6960  32929     042577  TOTALLY COSMO SCHOOL OF MODERN COSMETOLO   \n",
       "6961  32930     042488     WONGU UNIVERSITY OF ORIENTAL MEDICINE   \n",
       "\n",
       "                                 Address        City StateCode  ZipCode  \\\n",
       "6957  70-A FARM TO MARKET ROAD 1960 WEST     HOUSTON        TX    77090   \n",
       "6958              4199 CAMPUS DRIVE #650      IRVINE        CA    92612   \n",
       "6959           10309 NORTH WILLOW AVENUE      FRESNO        CA    93730   \n",
       "6960                  110 NORTH BROADWAY  BROKEN BOW        OK    74728   \n",
       "6961           8620 SOUTH EASTERN AVENUE   LAS VEGAS        NV    89123   \n",
       "\n",
       "     Province Country PostalCode  new  \n",
       "6957      NaN     NaN        NaN  NaN  \n",
       "6958      NaN     NaN        NaN  NaN  \n",
       "6959      NaN     NaN        NaN  NaN  \n",
       "6960      NaN     NaN        NaN  NaN  \n",
       "6961      NaN     NaN        NaN  NaN  "
      ]
     },
     "execution_count": 28,
     "metadata": {},
     "output_type": "execute_result"
    }
   ],
   "source": [
    "df[\"new\"]=1000\n",
    "df.tail()"
   ]
  },
  {
   "cell_type": "code",
   "execution_count": 29,
   "metadata": {},
   "outputs": [],
   "source": [
    "ser=df[\"ID\"]"
   ]
  },
  {
   "cell_type": "code",
   "execution_count": 142,
   "metadata": {},
   "outputs": [
    {
     "data": {
      "text/plain": [
       "0    25969\n",
       "1    25970\n",
       "2    25971\n",
       "3    25972\n",
       "4    25973\n",
       "Name: ID, dtype: int64"
      ]
     },
     "execution_count": 142,
     "metadata": {},
     "output_type": "execute_result"
    }
   ],
   "source": [
    "ser.head()\n"
   ]
  },
  {
   "cell_type": "code",
   "execution_count": 143,
   "metadata": {},
   "outputs": [
    {
     "data": {
      "text/plain": [
       "6957    32926\n",
       "6958    32927\n",
       "6959    32928\n",
       "6960    32929\n",
       "6961    32930\n",
       "Name: ID, dtype: int64"
      ]
     },
     "execution_count": 143,
     "metadata": {},
     "output_type": "execute_result"
    }
   ],
   "source": [
    "ser.tail()"
   ]
  },
  {
   "cell_type": "code",
   "execution_count": 37,
   "metadata": {},
   "outputs": [
    {
     "data": {
      "text/plain": [
       "array([25969, 25970, 25971, ..., 32928, 32929, 32930])"
      ]
     },
     "execution_count": 37,
     "metadata": {},
     "output_type": "execute_result"
    }
   ],
   "source": [
    "ser.values"
   ]
  },
  {
   "cell_type": "code",
   "execution_count": 39,
   "metadata": {},
   "outputs": [
    {
     "data": {
      "text/plain": [
       "RangeIndex(start=2, stop=7, step=1)"
      ]
     },
     "execution_count": 39,
     "metadata": {},
     "output_type": "execute_result"
    }
   ],
   "source": [
    "ser.index[2:7]"
   ]
  },
  {
   "cell_type": "code",
   "execution_count": null,
   "metadata": {},
   "outputs": [],
   "source": []
  }
 ],
 "metadata": {
  "kernelspec": {
   "display_name": "Python 3",
   "language": "python",
   "name": "python3"
  },
  "language_info": {
   "codemirror_mode": {
    "name": "ipython",
    "version": 3
   },
   "file_extension": ".py",
   "mimetype": "text/x-python",
   "name": "python",
   "nbconvert_exporter": "python",
   "pygments_lexer": "ipython3",
   "version": "3.6.5"
  }
 },
 "nbformat": 4,
 "nbformat_minor": 2
}

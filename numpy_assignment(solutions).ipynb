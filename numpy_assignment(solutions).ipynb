{
 "cells": [
  {
   "cell_type": "markdown",
   "metadata": {},
   "source": [
    "## Numpy Assignment"
   ]
  },
  {
   "cell_type": "markdown",
   "metadata": {},
   "source": [
    "####   Import the numpy package under the name `np` "
   ]
  },
  {
   "cell_type": "code",
   "execution_count": 65,
   "metadata": {},
   "outputs": [],
   "source": [
    "import numpy as np"
   ]
  },
  {
   "cell_type": "markdown",
   "metadata": {},
   "source": [
    "#### 1.  Create a vector with values ranging from 10 to 49 and then reverse it (★☆☆)"
   ]
  },
  {
   "cell_type": "code",
   "execution_count": 66,
   "metadata": {},
   "outputs": [
    {
     "data": {
      "text/plain": [
       "array([49, 48, 47, 46, 45, 44, 43, 42, 41, 40, 39, 38, 37, 36, 35, 34, 33,\n",
       "       32, 31, 30, 29, 28, 27, 26, 25, 24, 23, 22, 21, 20, 19, 18, 17, 16,\n",
       "       15, 14, 13, 12, 11, 10])"
      ]
     },
     "execution_count": 66,
     "metadata": {},
     "output_type": "execute_result"
    }
   ],
   "source": [
    "Z1=np.arange(10,50)[::-1]\n",
    "Z1"
   ]
  },
  {
   "cell_type": "markdown",
   "metadata": {},
   "source": [
    "####  2. Create a zeros vector of size 10 but the fifth value which is 1 "
   ]
  },
  {
   "cell_type": "code",
   "execution_count": 67,
   "metadata": {},
   "outputs": [
    {
     "name": "stdout",
     "output_type": "stream",
     "text": [
      "[0. 0. 0. 0. 1. 0. 0. 0. 0. 0.]\n"
     ]
    }
   ],
   "source": [
    "Z2 = np.zeros(10)\n",
    "Z2[4] = 1\n",
    "print(Z2)"
   ]
  },
  {
   "cell_type": "markdown",
   "metadata": {},
   "source": [
    "#### 3. Create a 3x3 matrix with values ranging from 0 to 8 "
   ]
  },
  {
   "cell_type": "code",
   "execution_count": 68,
   "metadata": {},
   "outputs": [
    {
     "name": "stdout",
     "output_type": "stream",
     "text": [
      "[[0 1 2]\n",
      " [3 4 5]\n",
      " [6 7 8]]\n"
     ]
    }
   ],
   "source": [
    "Z3 = np.arange(9).reshape(3,3)\n",
    "print(Z3)"
   ]
  },
  {
   "cell_type": "markdown",
   "metadata": {},
   "source": [
    "#### 4. Find indices of non-zero elements from \\[1,2,0,0,4,0\\] "
   ]
  },
  {
   "cell_type": "code",
   "execution_count": 69,
   "metadata": {},
   "outputs": [
    {
     "data": {
      "text/plain": [
       "(array([0, 1, 4]),)"
      ]
     },
     "execution_count": 69,
     "metadata": {},
     "output_type": "execute_result"
    }
   ],
   "source": [
    "X=np.array([1,2,0,0,4,0])\n",
    "l=np.where(X!=0)\n",
    "l"
   ]
  },
  {
   "cell_type": "markdown",
   "metadata": {},
   "source": [
    "#### 5. Create a 2d array with 1 on the border and 0 inside "
   ]
  },
  {
   "cell_type": "code",
   "execution_count": 70,
   "metadata": {},
   "outputs": [
    {
     "name": "stdout",
     "output_type": "stream",
     "text": [
      "[[1. 1. 1. 1. 1. 1. 1. 1. 1. 1.]\n",
      " [1. 0. 0. 0. 0. 0. 0. 0. 0. 1.]\n",
      " [1. 0. 0. 0. 0. 0. 0. 0. 0. 1.]\n",
      " [1. 0. 0. 0. 0. 0. 0. 0. 0. 1.]\n",
      " [1. 0. 0. 0. 0. 0. 0. 0. 0. 1.]\n",
      " [1. 0. 0. 0. 0. 0. 0. 0. 0. 1.]\n",
      " [1. 0. 0. 0. 0. 0. 0. 0. 0. 1.]\n",
      " [1. 0. 0. 0. 0. 0. 0. 0. 0. 1.]\n",
      " [1. 0. 0. 0. 0. 0. 0. 0. 0. 1.]\n",
      " [1. 1. 1. 1. 1. 1. 1. 1. 1. 1.]]\n"
     ]
    }
   ],
   "source": [
    "Z5 = np.ones((10,10))\n",
    "Z5[1:-1,1:-1] = 0 #or : Z[1:9,1:9] = 0\n",
    "print(Z5)"
   ]
  },
  {
   "cell_type": "markdown",
   "metadata": {},
   "source": [
    "#### 6. Create a 8x8 matrix and fill it with a checkerboard pattern (★)"
   ]
  },
  {
   "cell_type": "code",
   "execution_count": 71,
   "metadata": {},
   "outputs": [
    {
     "name": "stdout",
     "output_type": "stream",
     "text": [
      "[[0. 1. 0. 1. 0. 1. 0. 1.]\n",
      " [1. 0. 1. 0. 1. 0. 1. 0.]\n",
      " [0. 1. 0. 1. 0. 1. 0. 1.]\n",
      " [1. 0. 1. 0. 1. 0. 1. 0.]\n",
      " [0. 1. 0. 1. 0. 1. 0. 1.]\n",
      " [1. 0. 1. 0. 1. 0. 1. 0.]\n",
      " [0. 1. 0. 1. 0. 1. 0. 1.]\n",
      " [1. 0. 1. 0. 1. 0. 1. 0.]]\n"
     ]
    }
   ],
   "source": [
    "Z6 = np.zeros((8,8))\n",
    "Z6[1::2,::2] = 1\n",
    "Z6[::2,1::2] = 1\n",
    "print(Z6)"
   ]
  },
  {
   "cell_type": "markdown",
   "metadata": {},
   "source": [
    "#### 7. Given a 1D array, negate all elements which are between 3 and 8, in place. "
   ]
  },
  {
   "cell_type": "code",
   "execution_count": 72,
   "metadata": {},
   "outputs": [
    {
     "name": "stdout",
     "output_type": "stream",
     "text": [
      "[ 0  1  2  3 -4 -5 -6 -7 -8  9 10]\n"
     ]
    }
   ],
   "source": [
    "Z7 = np.arange(11)\n",
    "Z7[(Z7 > 3) & (Z7 <= 8)] *= -1\n",
    "print(Z7)"
   ]
  },
  {
   "cell_type": "markdown",
   "metadata": {},
   "source": [
    "####  8. Create a 5x5 matrix with row values ranging from 4 to 0 "
   ]
  },
  {
   "cell_type": "code",
   "execution_count": 73,
   "metadata": {},
   "outputs": [
    {
     "name": "stdout",
     "output_type": "stream",
     "text": [
      "[[4. 3. 2. 1. 0.]\n",
      " [4. 3. 2. 1. 0.]\n",
      " [4. 3. 2. 1. 0.]\n",
      " [4. 3. 2. 1. 0.]\n",
      " [4. 3. 2. 1. 0.]]\n"
     ]
    }
   ],
   "source": [
    "Z8 = np.zeros((5,5))\n",
    "Z8[:]=np.arange(5)[::-1]\n",
    "print(Z8)"
   ]
  },
  {
   "cell_type": "markdown",
   "metadata": {},
   "source": [
    "#### 9. Create random vector of size 10 and replace the maximum value by 0 "
   ]
  },
  {
   "cell_type": "code",
   "execution_count": 74,
   "metadata": {},
   "outputs": [
    {
     "name": "stdout",
     "output_type": "stream",
     "text": [
      "[ 0.76103773  0.12167502  0.44386323  0.33367433  1.49407907 -0.20515826\n",
      "  0.3130677  -0.85409574 -2.55298982  0.6536186 ]\n"
     ]
    },
    {
     "data": {
      "text/plain": [
       "array([ 0.76103773,  0.12167502,  0.44386323,  0.33367433,  0.        ,\n",
       "       -0.20515826,  0.3130677 , -0.85409574, -2.55298982,  0.6536186 ])"
      ]
     },
     "execution_count": 74,
     "metadata": {},
     "output_type": "execute_result"
    }
   ],
   "source": [
    "Z9=np.random.randn(10)\n",
    "print(Z9)\n",
    "Z9[Z9==np.max(Z9)]=0\n",
    "Z9"
   ]
  },
  {
   "cell_type": "markdown",
   "metadata": {},
   "source": [
    "#### 10 Create a random vector of size 10 and sort it in both ascending and descending way"
   ]
  },
  {
   "cell_type": "code",
   "execution_count": 75,
   "metadata": {},
   "outputs": [
    {
     "name": "stdout",
     "output_type": "stream",
     "text": [
      "[-1.45436567 -0.74216502 -0.18718385  0.04575852  0.15494743  0.37816252\n",
      "  0.8644362   1.46935877  1.53277921  2.26975462]\n",
      "[ 2.26975462  1.53277921  1.46935877  0.8644362   0.37816252  0.15494743\n",
      "  0.04575852 -0.18718385 -0.74216502 -1.45436567]\n"
     ]
    }
   ],
   "source": [
    "Z10=np.random.randn(10)\n",
    "Z10_ascending=np.sort(Z10)\n",
    "Z10_descending=np.sort(Z10)[::-1]\n",
    "print(Z10_ascending)\n",
    "print(Z10_descending)"
   ]
  },
  {
   "cell_type": "markdown",
   "metadata": {},
   "source": [
    "#### Qestion 6 :\n",
    "\n",
    "#### load the q3 variable form \"q3.npy\" and create a same-shaped array with np.random.randn(x,y); Afterwards, combine these arrays in both vertical and horizontal direction in a sorted way (axis=0 or 1)."
   ]
  },
  {
   "cell_type": "code",
   "execution_count": 76,
   "metadata": {},
   "outputs": [
    {
     "name": "stdout",
     "output_type": "stream",
     "text": [
      "q3: [[-0.93168824 -0.16892007 -0.10301861  0.59820906]\n",
      " [-0.49871331 -0.74482859  0.56573201 -1.02465373]\n",
      " [-0.47633474 -0.5145974   0.66564209 -0.74225427]]\n",
      "\n",
      "\n",
      "X6: [[ 1.76405235  0.40015721  0.97873798  2.2408932 ]\n",
      " [ 1.86755799 -0.97727788  0.95008842 -0.15135721]\n",
      " [-0.10321885  0.4105985   0.14404357  1.45427351]]\n"
     ]
    }
   ],
   "source": [
    "np.random.seed(0)\n",
    "q3=np.load(\"q3.npy\")\n",
    "x6=np.random.randn(q3.shape[0],q3.shape[1])\n",
    "print(\"q3:\",q3)\n",
    "print(\"\\n\")\n",
    "print(\"X6:\",x6)"
   ]
  },
  {
   "cell_type": "code",
   "execution_count": 77,
   "metadata": {},
   "outputs": [
    {
     "data": {
      "text/plain": [
       "array([[-0.93168824, -0.97727788, -0.10301861, -1.02465373],\n",
       "       [-0.49871331, -0.74482859,  0.14404357, -0.74225427],\n",
       "       [-0.47633474, -0.5145974 ,  0.56573201, -0.15135721],\n",
       "       [-0.10321885, -0.16892007,  0.66564209,  0.59820906],\n",
       "       [ 1.76405235,  0.40015721,  0.95008842,  1.45427351],\n",
       "       [ 1.86755799,  0.4105985 ,  0.97873798,  2.2408932 ]])"
      ]
     },
     "execution_count": 77,
     "metadata": {},
     "output_type": "execute_result"
    }
   ],
   "source": [
    "# np.vstack((q3,x6))\n",
    "np.sort(np.vstack((q3,x6)),axis=0) "
   ]
  },
  {
   "cell_type": "code",
   "execution_count": 78,
   "metadata": {},
   "outputs": [
    {
     "data": {
      "text/plain": [
       "array([[ 1.86755799,  0.4105985 ,  0.97873798,  2.2408932 ],\n",
       "       [ 1.76405235,  0.40015721,  0.95008842,  1.45427351],\n",
       "       [-0.10321885, -0.16892007,  0.66564209,  0.59820906],\n",
       "       [-0.47633474, -0.5145974 ,  0.56573201, -0.15135721],\n",
       "       [-0.49871331, -0.74482859,  0.14404357, -0.74225427],\n",
       "       [-0.93168824, -0.97727788, -0.10301861, -1.02465373]])"
      ]
     },
     "execution_count": 78,
     "metadata": {},
     "output_type": "execute_result"
    }
   ],
   "source": [
    "# reverse :\n",
    "np.sort(np.vstack((q3,x6)),axis=0)[::-1]"
   ]
  },
  {
   "cell_type": "code",
   "execution_count": 79,
   "metadata": {},
   "outputs": [
    {
     "data": {
      "text/plain": [
       "array([[-0.93168824, -0.16892007, -0.10301861,  0.59820906],\n",
       "       [-1.02465373, -0.74482859, -0.49871331,  0.56573201],\n",
       "       [-0.74225427, -0.5145974 , -0.47633474,  0.66564209],\n",
       "       [ 0.40015721,  0.97873798,  1.76405235,  2.2408932 ],\n",
       "       [-0.97727788, -0.15135721,  0.95008842,  1.86755799],\n",
       "       [-0.10321885,  0.14404357,  0.4105985 ,  1.45427351]])"
      ]
     },
     "execution_count": 79,
     "metadata": {},
     "output_type": "execute_result"
    }
   ],
   "source": [
    "np.sort(np.vstack((q3,x6)),axis=1) "
   ]
  },
  {
   "cell_type": "code",
   "execution_count": 80,
   "metadata": {},
   "outputs": [
    {
     "data": {
      "text/plain": [
       "array([[ 0.59820906, -0.10301861, -0.16892007, -0.93168824],\n",
       "       [ 0.56573201, -0.49871331, -0.74482859, -1.02465373],\n",
       "       [ 0.66564209, -0.47633474, -0.5145974 , -0.74225427],\n",
       "       [ 2.2408932 ,  1.76405235,  0.97873798,  0.40015721],\n",
       "       [ 1.86755799,  0.95008842, -0.15135721, -0.97727788],\n",
       "       [ 1.45427351,  0.4105985 ,  0.14404357, -0.10321885]])"
      ]
     },
     "execution_count": 80,
     "metadata": {},
     "output_type": "execute_result"
    }
   ],
   "source": [
    "# reverse : \n",
    "np.sort(np.vstack((q3,x6)),axis=1)[:,::-1]"
   ]
  },
  {
   "cell_type": "code",
   "execution_count": 81,
   "metadata": {},
   "outputs": [
    {
     "data": {
      "text/plain": [
       "array([[ 2.2408932 ,  1.76405235,  0.97873798,  0.59820906,  0.40015721,\n",
       "        -0.10301861, -0.16892007, -0.93168824],\n",
       "       [ 1.86755799,  0.95008842,  0.56573201, -0.15135721, -0.49871331,\n",
       "        -0.74482859, -0.97727788, -1.02465373],\n",
       "       [ 1.45427351,  0.66564209,  0.4105985 ,  0.14404357, -0.10321885,\n",
       "        -0.47633474, -0.5145974 , -0.74225427]])"
      ]
     },
     "execution_count": 81,
     "metadata": {},
     "output_type": "execute_result"
    }
   ],
   "source": [
    "# np.hstack((q3,x6)):\n",
    "np.sort(np.hstack((q3,x6)),axis=0)\n",
    "np.sort(np.hstack((q3,x6)),axis=0)[::-1]\n",
    "np.sort(np.hstack((q3,x6)),axis=1) \n",
    "np.sort(np.hstack((q3,x6)),axis=1)[:,::-1]"
   ]
  },
  {
   "cell_type": "markdown",
   "metadata": {},
   "source": [
    "**Question 7**:\n",
    "\n",
    "#### create 3-dimentional (2,3,2) array with np.random.randn and sort it along its third axis."
   ]
  },
  {
   "cell_type": "code",
   "execution_count": 82,
   "metadata": {},
   "outputs": [
    {
     "data": {
      "text/plain": [
       "array([[[ 0.40015721,  1.76405235],\n",
       "        [ 0.97873798,  2.2408932 ],\n",
       "        [-0.97727788,  1.86755799]],\n",
       "\n",
       "       [[-0.15135721,  0.95008842],\n",
       "        [-0.10321885,  0.4105985 ],\n",
       "        [ 0.14404357,  1.45427351]]])"
      ]
     },
     "execution_count": 82,
     "metadata": {},
     "output_type": "execute_result"
    }
   ],
   "source": [
    "np.random.seed(0)\n",
    "np.sort(np.random.randn(2,3,2),axis=2)"
   ]
  },
  {
   "cell_type": "code",
   "execution_count": null,
   "metadata": {},
   "outputs": [],
   "source": []
  },
  {
   "cell_type": "code",
   "execution_count": null,
   "metadata": {},
   "outputs": [],
   "source": []
  },
  {
   "cell_type": "code",
   "execution_count": null,
   "metadata": {},
   "outputs": [],
   "source": []
  },
  {
   "cell_type": "code",
   "execution_count": null,
   "metadata": {},
   "outputs": [],
   "source": []
  }
 ],
 "metadata": {
  "kernelspec": {
   "display_name": "Python 3",
   "language": "python",
   "name": "python3"
  },
  "language_info": {
   "codemirror_mode": {
    "name": "ipython",
    "version": 3
   },
   "file_extension": ".py",
   "mimetype": "text/x-python",
   "name": "python",
   "nbconvert_exporter": "python",
   "pygments_lexer": "ipython3",
   "version": "3.6.5"
  }
 },
 "nbformat": 4,
 "nbformat_minor": 2
}
